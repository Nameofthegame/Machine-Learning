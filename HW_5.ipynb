{
 "cells": [
  {
   "cell_type": "markdown",
   "metadata": {},
   "source": [
    "## Purpose\n",
    "\n",
    "Machine Learning Homework #5: Building a Recommender System"
   ]
  },
  {
   "cell_type": "code",
   "execution_count": 1,
   "metadata": {},
   "outputs": [],
   "source": [
    "# Imports\n",
    "import numpy as np\n",
    "import pandas as pd\n",
    "import matplotlib.pyplot as plt\n",
    "\n",
    "from statistics import mean\n",
    "\n",
    "from surprise import Dataset, accuracy\n",
    "from surprise import SVD, KNNBasic, KNNWithMeans, SlopeOne\n",
    "from surprise.similarities import cosine, msd, pearson\n",
    "from surprise.model_selection import train_test_split, cross_validate"
   ]
  },
  {
   "cell_type": "code",
   "execution_count": 2,
   "metadata": {},
   "outputs": [
    {
     "data": {
      "text/plain": [
       "<surprise.dataset.DatasetAutoFolds at 0x196f9ff7370>"
      ]
     },
     "execution_count": 2,
     "metadata": {},
     "output_type": "execute_result"
    }
   ],
   "source": [
    "# Acquire Data from MovieLens Dataset\n",
    "data = Dataset.load_builtin('ml-100k')\n",
    "data"
   ]
  },
  {
   "cell_type": "markdown",
   "metadata": {},
   "source": [
    "## Average Mean Performance\n",
    "$\\newline$\n",
    "**Algorithms**\n",
    "* Probabilistic Matrix Factorilization (PMF)\n",
    "* User-Based Collaborative Filtering\n",
    "* Item-Based Collaborative Filtering"
   ]
  },
  {
   "cell_type": "code",
   "execution_count": 3,
   "metadata": {},
   "outputs": [],
   "source": [
    "# PMF implementation = 'biased' = False\n",
    "pmf_algo = SVD(biased = False)\n",
    "\n",
    "# User-Based Collaborative Filtering\n",
    "user_based_algo = KNNWithMeans()\n",
    "\n",
    "# Item-Based Collaborative Filtering\n",
    "item_based_algo = SlopeOne()"
   ]
  },
  {
   "cell_type": "code",
   "execution_count": 4,
   "metadata": {},
   "outputs": [],
   "source": [
    "algos = ['PMF', 'User-Based', 'Item-Based']\n",
    "rmse_mean = []\n",
    "mae_mean = []"
   ]
  },
  {
   "cell_type": "code",
   "execution_count": 5,
   "metadata": {
    "scrolled": true
   },
   "outputs": [
    {
     "name": "stdout",
     "output_type": "stream",
     "text": [
      "Evaluating RMSE, MAE of algorithm SVD on 5 split(s).\n",
      "\n",
      "                  Fold 1  Fold 2  Fold 3  Fold 4  Fold 5  Mean    Std     \n",
      "RMSE (testset)    0.9466  0.9471  0.9522  0.9543  0.9437  0.9488  0.0039  \n",
      "MAE (testset)     0.7448  0.7444  0.7510  0.7538  0.7437  0.7475  0.0041  \n",
      "Fit time          7.73    6.97    6.46    6.82    8.36    7.27    0.69    \n",
      "Test time         0.28    0.21    0.12    0.17    0.54    0.26    0.15    \n"
     ]
    }
   ],
   "source": [
    "pmf = cross_validate(pmf_algo, data, measures = ['RMSE', 'MAE'], cv = 5, verbose = True)\n",
    "\n",
    "pmf_rmse_mean = mean(pmf['test_rmse'])\n",
    "pmf_mae_mean = mean(pmf['test_mae'])\n",
    "\n",
    "rmse_mean.append(pmf_rmse_mean)\n",
    "mae_mean.append(pmf_mae_mean)"
   ]
  },
  {
   "cell_type": "code",
   "execution_count": 6,
   "metadata": {
    "scrolled": true
   },
   "outputs": [
    {
     "name": "stdout",
     "output_type": "stream",
     "text": [
      "Computing the msd similarity matrix...\n",
      "Done computing similarity matrix.\n",
      "Computing the msd similarity matrix...\n",
      "Done computing similarity matrix.\n",
      "Computing the msd similarity matrix...\n",
      "Done computing similarity matrix.\n",
      "Computing the msd similarity matrix...\n",
      "Done computing similarity matrix.\n",
      "Computing the msd similarity matrix...\n",
      "Done computing similarity matrix.\n",
      "Evaluating RMSE, MAE of algorithm KNNWithMeans on 5 split(s).\n",
      "\n",
      "                  Fold 1  Fold 2  Fold 3  Fold 4  Fold 5  Mean    Std     \n",
      "RMSE (testset)    0.9472  0.9470  0.9517  0.9644  0.9452  0.9511  0.0070  \n",
      "MAE (testset)     0.7463  0.7470  0.7496  0.7600  0.7435  0.7493  0.0057  \n",
      "Fit time          0.63    0.68    0.74    0.61    0.70    0.67    0.05    \n",
      "Test time         5.16    5.49    5.74    5.52    6.58    5.70    0.48    \n"
     ]
    }
   ],
   "source": [
    "user = cross_validate(user_based_algo, data, measures = ['RMSE', 'MAE'], cv = 5, verbose = True)\n",
    "\n",
    "user_rmse_mean = mean(user['test_rmse'])\n",
    "user_mae_mean = mean(user['test_mae'])\n",
    "\n",
    "rmse_mean.append(user_rmse_mean)\n",
    "mae_mean.append(user_mae_mean)"
   ]
  },
  {
   "cell_type": "code",
   "execution_count": 7,
   "metadata": {
    "scrolled": true
   },
   "outputs": [
    {
     "name": "stdout",
     "output_type": "stream",
     "text": [
      "Evaluating RMSE, MAE of algorithm SlopeOne on 5 split(s).\n",
      "\n",
      "                  Fold 1  Fold 2  Fold 3  Fold 4  Fold 5  Mean    Std     \n",
      "RMSE (testset)    0.9524  0.9393  0.9485  0.9460  0.9365  0.9445  0.0059  \n",
      "MAE (testset)     0.7474  0.7400  0.7455  0.7431  0.7357  0.7423  0.0041  \n",
      "Fit time          1.00    1.05    1.15    1.48    1.09    1.16    0.17    \n",
      "Test time         4.32    4.65    4.68    4.27    4.09    4.40    0.23    \n"
     ]
    }
   ],
   "source": [
    "item = cross_validate(item_based_algo, data, measures = ['RMSE', 'MAE'], cv = 5, verbose = True)\n",
    "\n",
    "item_rmse_mean = mean(item['test_rmse'])\n",
    "item_mae_mean = mean(item['test_mae'])\n",
    "\n",
    "rmse_mean.append(item_rmse_mean)\n",
    "mae_mean.append(item_mae_mean)"
   ]
  },
  {
   "cell_type": "code",
   "execution_count": 47,
   "metadata": {},
   "outputs": [],
   "source": [
    "def Graph_Similarity_Measures(df, examination, message):\n",
    "    fig, ax = plt.subplots(figsize = (30, 5))\n",
    "    plt.rcParams.update({'font.size': 40})\n",
    "\n",
    "    x = df[examination]\n",
    "\n",
    "    ax.bar(x, df['RMSE'], label='RMSE', color='#15B01A')\n",
    "    ax.bar(x, df['MAE'], label='MAE', color='#069AF3')\n",
    "\n",
    "    # Customise Display Properties\n",
    "    plt.grid(axis = 'y')\n",
    "    \n",
    "    ax.tick_params(axis='y', which='major', labelsize=20)\n",
    "    ax.set_ylabel('Loss\\n', fontsize = 20)\n",
    "    ax.set_ylim([0, 1])\n",
    "    \n",
    "    ax.set_title(message + '\\n', fontsize = 25)\n",
    "    \n",
    "    ax.set_xticks(x)\n",
    "    ax.set_xticklabels(list(x), rotation='horizontal', fontsize = 20)\n",
    "    ax.legend(loc = 4, fontsize = 'xx-small')\n",
    "\n",
    "    plt.show()"
   ]
  },
  {
   "cell_type": "code",
   "execution_count": 48,
   "metadata": {},
   "outputs": [
    {
     "data": {
      "image/png": "[encoded data removed]",
      "text/plain": [
       "<Figure size 2160x360 with 1 Axes>"
      ]
     },
     "metadata": {
      "needs_background": "light"
     },
     "output_type": "display_data"
    },
    {
     "name": "stdout",
     "output_type": "stream",
     "text": [
      "\n",
      "\n"
     ]
    },
    {
     "data": {
      "text/html": [
       "<div>\n",
       "<style scoped>\n",
       "    .dataframe tbody tr th:only-of-type {\n",
       "        vertical-align: middle;\n",
       "    }\n",
       "\n",
       "    .dataframe tbody tr th {\n",
       "        vertical-align: top;\n",
       "    }\n",
       "\n",
       "    .dataframe thead th {\n",
       "        text-align: right;\n",
       "    }\n",
       "</style>\n",
       "<table border=\"1\" class=\"dataframe\">\n",
       "  <thead>\n",
       "    <tr style=\"text-align: right;\">\n",
       "      <th></th>\n",
       "      <th>Algorithms</th>\n",
       "      <th>RMSE</th>\n",
       "      <th>MAE</th>\n",
       "    </tr>\n",
       "  </thead>\n",
       "  <tbody>\n",
       "    <tr>\n",
       "      <th>0</th>\n",
       "      <td>PMF</td>\n",
       "      <td>0.948787</td>\n",
       "      <td>0.747524</td>\n",
       "    </tr>\n",
       "    <tr>\n",
       "      <th>1</th>\n",
       "      <td>User-Based</td>\n",
       "      <td>0.951092</td>\n",
       "      <td>0.749283</td>\n",
       "    </tr>\n",
       "    <tr>\n",
       "      <th>2</th>\n",
       "      <td>Item-Based</td>\n",
       "      <td>0.944545</td>\n",
       "      <td>0.742327</td>\n",
       "    </tr>\n",
       "  </tbody>\n",
       "</table>\n",
       "</div>"
      ],
      "text/plain": [
       "   Algorithms      RMSE       MAE\n",
       "0         PMF  0.948787  0.747524\n",
       "1  User-Based  0.951092  0.749283\n",
       "2  Item-Based  0.944545  0.742327"
      ]
     },
     "execution_count": 48,
     "metadata": {},
     "output_type": "execute_result"
    }
   ],
   "source": [
    "df = pd.DataFrame(algos, columns = ['Algorithms'])\n",
    "df['RMSE'] = pd.Series(rmse_mean)\n",
    "df['MAE'] = pd.Series(mae_mean)\n",
    "\n",
    "message = 'Average Mean Performances for All Three Algorithms'\n",
    "Graph_Similarity_Measures(df, 'Algorithms', message)\n",
    "\n",
    "print('\\n')\n",
    "df"
   ]
  },
  {
   "cell_type": "code",
   "execution_count": 10,
   "metadata": {},
   "outputs": [],
   "source": [
    "trainset, testset = train_test_split(data, test_size = 0.20)"
   ]
  },
  {
   "cell_type": "markdown",
   "metadata": {},
   "source": [
    "##  Similarity Measures: User-Based Collaborative Filtering"
   ]
  },
  {
   "cell_type": "code",
   "execution_count": 11,
   "metadata": {},
   "outputs": [],
   "source": [
    "similarities = ['cosine', 'msd', 'pearson']\n",
    "user_rmse_li = []\n",
    "user_mae_li = []"
   ]
  },
  {
   "cell_type": "code",
   "execution_count": 12,
   "metadata": {},
   "outputs": [
    {
     "name": "stdout",
     "output_type": "stream",
     "text": [
      "Computing the cosine similarity matrix...\n",
      "Done computing similarity matrix.\n",
      "RMSE: 1.0130\n",
      "MAE:  0.8007\n"
     ]
    }
   ],
   "source": [
    "# Cosine Simularity (User-Based)\n",
    "sim_options = {'name': 'cosine',\n",
    "               'user_based': True}\n",
    "\n",
    "user_based_cos = KNNBasic(sim_options = sim_options)\n",
    "user_based_cos.fit(trainset)\n",
    "\n",
    "pred = user_based_cos.test(testset)\n",
    "user_rmse_cos = accuracy.rmse(pred)\n",
    "user_mae_cos = accuracy.mae(pred)\n",
    "\n",
    "user_rmse_li.append(user_rmse_cos)\n",
    "user_mae_li.append(user_mae_cos)"
   ]
  },
  {
   "cell_type": "code",
   "execution_count": 13,
   "metadata": {},
   "outputs": [
    {
     "name": "stdout",
     "output_type": "stream",
     "text": [
      "Computing the msd similarity matrix...\n",
      "Done computing similarity matrix.\n",
      "RMSE: 0.9758\n",
      "MAE:  0.7703\n"
     ]
    }
   ],
   "source": [
    "# MSD Simularity (User-Based)\n",
    "sim_options = {'name': 'msd',\n",
    "               'user_based': True}\n",
    "\n",
    "user_based_cos = KNNBasic(sim_options = sim_options)\n",
    "user_based_cos.fit(trainset)\n",
    "\n",
    "pred = user_based_cos.test(testset)\n",
    "user_rmse_cos = accuracy.rmse(pred)\n",
    "user_mae_cos = accuracy.mae(pred)\n",
    "\n",
    "user_rmse_li.append(user_rmse_cos)\n",
    "user_mae_li.append(user_mae_cos)"
   ]
  },
  {
   "cell_type": "code",
   "execution_count": 14,
   "metadata": {},
   "outputs": [
    {
     "name": "stdout",
     "output_type": "stream",
     "text": [
      "Computing the pearson similarity matrix...\n",
      "Done computing similarity matrix.\n",
      "RMSE: 1.0077\n",
      "MAE:  0.7994\n"
     ]
    }
   ],
   "source": [
    "# Pearson Simularity (User-Based)\n",
    "sim_options = {'name': 'pearson',\n",
    "               'user_based': True}\n",
    "\n",
    "user_based_cos = KNNBasic(sim_options = sim_options)\n",
    "user_based_cos.fit(trainset)\n",
    "\n",
    "pred = user_based_cos.test(testset)\n",
    "user_rmse_cos = accuracy.rmse(pred)\n",
    "user_mae_cos = accuracy.mae(pred)\n",
    "\n",
    "user_rmse_li.append(user_rmse_cos)\n",
    "user_mae_li.append(user_mae_cos)"
   ]
  },
  {
   "cell_type": "code",
   "execution_count": 49,
   "metadata": {},
   "outputs": [
    {
     "data": {
      "image/png": "[encoded data removed]",
      "text/plain": [
       "<Figure size 2160x360 with 1 Axes>"
      ]
     },
     "metadata": {
      "needs_background": "light"
     },
     "output_type": "display_data"
    },
    {
     "name": "stdout",
     "output_type": "stream",
     "text": [
      "\n",
      "\n"
     ]
    },
    {
     "data": {
      "text/html": [
       "<div>\n",
       "<style scoped>\n",
       "    .dataframe tbody tr th:only-of-type {\n",
       "        vertical-align: middle;\n",
       "    }\n",
       "\n",
       "    .dataframe tbody tr th {\n",
       "        vertical-align: top;\n",
       "    }\n",
       "\n",
       "    .dataframe thead th {\n",
       "        text-align: right;\n",
       "    }\n",
       "</style>\n",
       "<table border=\"1\" class=\"dataframe\">\n",
       "  <thead>\n",
       "    <tr style=\"text-align: right;\">\n",
       "      <th></th>\n",
       "      <th>Similarities</th>\n",
       "      <th>RMSE</th>\n",
       "      <th>MAE</th>\n",
       "    </tr>\n",
       "  </thead>\n",
       "  <tbody>\n",
       "    <tr>\n",
       "      <th>0</th>\n",
       "      <td>cosine</td>\n",
       "      <td>1.012999</td>\n",
       "      <td>0.800701</td>\n",
       "    </tr>\n",
       "    <tr>\n",
       "      <th>1</th>\n",
       "      <td>msd</td>\n",
       "      <td>0.975768</td>\n",
       "      <td>0.770272</td>\n",
       "    </tr>\n",
       "    <tr>\n",
       "      <th>2</th>\n",
       "      <td>pearson</td>\n",
       "      <td>1.007667</td>\n",
       "      <td>0.799398</td>\n",
       "    </tr>\n",
       "  </tbody>\n",
       "</table>\n",
       "</div>"
      ],
      "text/plain": [
       "  Similarities      RMSE       MAE\n",
       "0       cosine  1.012999  0.800701\n",
       "1          msd  0.975768  0.770272\n",
       "2      pearson  1.007667  0.799398"
      ]
     },
     "execution_count": 49,
     "metadata": {},
     "output_type": "execute_result"
    }
   ],
   "source": [
    "user_df = pd.DataFrame(similarities, columns = ['Similarities'])\n",
    "user_df['RMSE'] = pd.Series(user_rmse_li)\n",
    "user_df['MAE'] = pd.Series(user_mae_li)\n",
    "\n",
    "message = 'Similarity Measures (User-Based Collaborative Filtering)'\n",
    "Graph_Similarity_Measures(user_df, 'Similarities', message)\n",
    "\n",
    "print('\\n')\n",
    "user_df"
   ]
  },
  {
   "cell_type": "markdown",
   "metadata": {},
   "source": [
    "## Similarity Measure: Item-Based Collaborative Filtering"
   ]
  },
  {
   "cell_type": "code",
   "execution_count": 16,
   "metadata": {},
   "outputs": [],
   "source": [
    "item_rmse_li = []\n",
    "item_mae_li = []"
   ]
  },
  {
   "cell_type": "code",
   "execution_count": 17,
   "metadata": {},
   "outputs": [
    {
     "name": "stdout",
     "output_type": "stream",
     "text": [
      "Computing the cosine similarity matrix...\n",
      "Done computing similarity matrix.\n",
      "RMSE: 1.0297\n",
      "MAE:  0.8125\n"
     ]
    }
   ],
   "source": [
    "# Cosine Simularity (Item-Based)\n",
    "sim_options = {'name': 'cosine',\n",
    "               'user_based': False}\n",
    "\n",
    "item_based_cos = KNNBasic(sim_options = sim_options)\n",
    "item_based_cos.fit(trainset)\n",
    "\n",
    "pred = item_based_cos.test(testset)\n",
    "item_rmse_cos = accuracy.rmse(pred)\n",
    "item_mae_cos = accuracy.mae(pred)\n",
    "\n",
    "item_rmse_li.append(item_rmse_cos)\n",
    "item_mae_li.append(item_mae_cos)"
   ]
  },
  {
   "cell_type": "code",
   "execution_count": 18,
   "metadata": {},
   "outputs": [
    {
     "name": "stdout",
     "output_type": "stream",
     "text": [
      "Computing the msd similarity matrix...\n",
      "Done computing similarity matrix.\n",
      "RMSE: 0.9773\n",
      "MAE:  0.7705\n"
     ]
    }
   ],
   "source": [
    "# MSD Simularity (Item-Based)\n",
    "sim_options = {'name': 'msd',\n",
    "               'user_based': False}\n",
    "\n",
    "item_based_cos = KNNBasic(sim_options = sim_options)\n",
    "item_based_cos.fit(trainset)\n",
    "\n",
    "pred = item_based_cos.test(testset)\n",
    "item_rmse_cos = accuracy.rmse(pred)\n",
    "item_mae_cos = accuracy.mae(pred)\n",
    "\n",
    "item_rmse_li.append(item_rmse_cos)\n",
    "item_mae_li.append(item_mae_cos)"
   ]
  },
  {
   "cell_type": "code",
   "execution_count": 19,
   "metadata": {},
   "outputs": [
    {
     "name": "stdout",
     "output_type": "stream",
     "text": [
      "Computing the pearson similarity matrix...\n",
      "Done computing similarity matrix.\n",
      "RMSE: 1.0411\n",
      "MAE:  0.8332\n"
     ]
    }
   ],
   "source": [
    "# Pearson Simularity (Item-Based)\n",
    "sim_options = {'name': 'pearson',\n",
    "               'user_based': False}\n",
    "\n",
    "item_based_cos = KNNBasic(sim_options = sim_options)\n",
    "item_based_cos.fit(trainset)\n",
    "\n",
    "pred = item_based_cos.test(testset)\n",
    "item_rmse_cos = accuracy.rmse(pred)\n",
    "item_mae_cos = accuracy.mae(pred)\n",
    "\n",
    "item_rmse_li.append(item_rmse_cos)\n",
    "item_mae_li.append(item_mae_cos)"
   ]
  },
  {
   "cell_type": "code",
   "execution_count": 50,
   "metadata": {},
   "outputs": [
    {
     "data": {
      "image/png": "[encoded data removed]",
      "text/plain": [
       "<Figure size 2160x360 with 1 Axes>"
      ]
     },
     "metadata": {
      "needs_background": "light"
     },
     "output_type": "display_data"
    },
    {
     "name": "stdout",
     "output_type": "stream",
     "text": [
      "\n",
      "\n"
     ]
    },
    {
     "data": {
      "text/html": [
       "<div>\n",
       "<style scoped>\n",
       "    .dataframe tbody tr th:only-of-type {\n",
       "        vertical-align: middle;\n",
       "    }\n",
       "\n",
       "    .dataframe tbody tr th {\n",
       "        vertical-align: top;\n",
       "    }\n",
       "\n",
       "    .dataframe thead th {\n",
       "        text-align: right;\n",
       "    }\n",
       "</style>\n",
       "<table border=\"1\" class=\"dataframe\">\n",
       "  <thead>\n",
       "    <tr style=\"text-align: right;\">\n",
       "      <th></th>\n",
       "      <th>Similarities</th>\n",
       "      <th>RMSE</th>\n",
       "      <th>MAE</th>\n",
       "    </tr>\n",
       "  </thead>\n",
       "  <tbody>\n",
       "    <tr>\n",
       "      <th>0</th>\n",
       "      <td>cosine</td>\n",
       "      <td>1.029744</td>\n",
       "      <td>0.812497</td>\n",
       "    </tr>\n",
       "    <tr>\n",
       "      <th>1</th>\n",
       "      <td>msd</td>\n",
       "      <td>0.977268</td>\n",
       "      <td>0.770469</td>\n",
       "    </tr>\n",
       "    <tr>\n",
       "      <th>2</th>\n",
       "      <td>pearson</td>\n",
       "      <td>1.041126</td>\n",
       "      <td>0.833227</td>\n",
       "    </tr>\n",
       "  </tbody>\n",
       "</table>\n",
       "</div>"
      ],
      "text/plain": [
       "  Similarities      RMSE       MAE\n",
       "0       cosine  1.029744  0.812497\n",
       "1          msd  0.977268  0.770469\n",
       "2      pearson  1.041126  0.833227"
      ]
     },
     "execution_count": 50,
     "metadata": {},
     "output_type": "execute_result"
    }
   ],
   "source": [
    "item_df = pd.DataFrame(similarities, columns = ['Similarities'])\n",
    "item_df['RMSE'] = pd.Series(item_rmse_li)\n",
    "item_df['MAE'] = pd.Series(item_mae_li)\n",
    "\n",
    "message = 'Similarity Measures (Item-Based Collaborative Filtering)'\n",
    "Graph_Similarity_Measures(item_df, 'Similarities', message)\n",
    "\n",
    "print('\\n')\n",
    "item_df"
   ]
  },
  {
   "cell_type": "markdown",
   "metadata": {},
   "source": [
    "## Number of Neighbors: User-Based Collaborative Filtering"
   ]
  },
  {
   "cell_type": "code",
   "execution_count": 21,
   "metadata": {},
   "outputs": [],
   "source": [
    "neighbors = [5, 10, 15, 20]\n",
    "user_rmse_li_k = []\n",
    "user_mae_li_k = []"
   ]
  },
  {
   "cell_type": "code",
   "execution_count": 22,
   "metadata": {},
   "outputs": [
    {
     "name": "stdout",
     "output_type": "stream",
     "text": [
      "Computing the msd similarity matrix...\n",
      "Done computing similarity matrix.\n",
      "RMSE: 1.0250\n",
      "MAE:  0.8051\n"
     ]
    }
   ],
   "source": [
    "# K = 5 Simularity (User-Based)\n",
    "sim_options = {'user_based': True}\n",
    "\n",
    "user_based_5 = KNNBasic(k = 5, sim_options = sim_options)\n",
    "user_based_5.fit(trainset)\n",
    "\n",
    "pred = user_based_5.test(testset)\n",
    "user_rmse_5 = accuracy.rmse(pred)\n",
    "user_mae_5 = accuracy.mae(pred)\n",
    "\n",
    "user_rmse_li_k.append(user_rmse_5)\n",
    "user_mae_li_k.append(user_mae_5)"
   ]
  },
  {
   "cell_type": "code",
   "execution_count": 23,
   "metadata": {},
   "outputs": [
    {
     "name": "stdout",
     "output_type": "stream",
     "text": [
      "Computing the msd similarity matrix...\n",
      "Done computing similarity matrix.\n",
      "RMSE: 0.9879\n",
      "MAE:  0.7770\n"
     ]
    }
   ],
   "source": [
    "# K = 10 Simularity (User-Based)\n",
    "sim_options = {'user_based': True}\n",
    "\n",
    "user_based_10 = KNNBasic(k = 10, sim_options = sim_options)\n",
    "user_based_10.fit(trainset)\n",
    "\n",
    "pred = user_based_10.test(testset)\n",
    "user_rmse_10 = accuracy.rmse(pred)\n",
    "user_mae_10 = accuracy.mae(pred)\n",
    "\n",
    "user_rmse_li_k.append(user_rmse_10)\n",
    "user_mae_li_k.append(user_mae_10)"
   ]
  },
  {
   "cell_type": "code",
   "execution_count": 24,
   "metadata": {},
   "outputs": [
    {
     "name": "stdout",
     "output_type": "stream",
     "text": [
      "Computing the msd similarity matrix...\n",
      "Done computing similarity matrix.\n",
      "RMSE: 0.9777\n",
      "MAE:  0.7696\n"
     ]
    }
   ],
   "source": [
    "# K = 15 Simularity (User-Based)\n",
    "sim_options = {'user_based': True}\n",
    "\n",
    "user_based_15 = KNNBasic(k = 15, sim_options = sim_options)\n",
    "user_based_15.fit(trainset)\n",
    "\n",
    "pred = user_based_15.test(testset)\n",
    "user_rmse_15 = accuracy.rmse(pred)\n",
    "user_mae_15 = accuracy.mae(pred)\n",
    "\n",
    "user_rmse_li_k.append(user_rmse_15)\n",
    "user_mae_li_k.append(user_mae_15)"
   ]
  },
  {
   "cell_type": "code",
   "execution_count": 25,
   "metadata": {},
   "outputs": [
    {
     "name": "stdout",
     "output_type": "stream",
     "text": [
      "Computing the msd similarity matrix...\n",
      "Done computing similarity matrix.\n",
      "RMSE: 0.9741\n",
      "MAE:  0.7676\n"
     ]
    }
   ],
   "source": [
    "# K = 20 Simularity (User-Based)\n",
    "sim_options = {'user_based': True}\n",
    "\n",
    "user_based_20 = KNNBasic(k = 20, sim_options = sim_options)\n",
    "user_based_20.fit(trainset)\n",
    "\n",
    "pred = user_based_20.test(testset)\n",
    "user_rmse_20 = accuracy.rmse(pred)\n",
    "user_mae_20 = accuracy.mae(pred)\n",
    "\n",
    "user_rmse_li_k.append(user_rmse_20)\n",
    "user_mae_li_k.append(user_mae_20)"
   ]
  },
  {
   "cell_type": "code",
   "execution_count": 51,
   "metadata": {},
   "outputs": [
    {
     "data": {
      "image/png": "[encoded data removed]",
      "text/plain": [
       "<Figure size 2160x360 with 1 Axes>"
      ]
     },
     "metadata": {
      "needs_background": "light"
     },
     "output_type": "display_data"
    },
    {
     "name": "stdout",
     "output_type": "stream",
     "text": [
      "\n",
      "\n"
     ]
    },
    {
     "data": {
      "text/html": [
       "<div>\n",
       "<style scoped>\n",
       "    .dataframe tbody tr th:only-of-type {\n",
       "        vertical-align: middle;\n",
       "    }\n",
       "\n",
       "    .dataframe tbody tr th {\n",
       "        vertical-align: top;\n",
       "    }\n",
       "\n",
       "    .dataframe thead th {\n",
       "        text-align: right;\n",
       "    }\n",
       "</style>\n",
       "<table border=\"1\" class=\"dataframe\">\n",
       "  <thead>\n",
       "    <tr style=\"text-align: right;\">\n",
       "      <th></th>\n",
       "      <th>Number of Neighbors</th>\n",
       "      <th>RMSE</th>\n",
       "      <th>MAE</th>\n",
       "    </tr>\n",
       "  </thead>\n",
       "  <tbody>\n",
       "    <tr>\n",
       "      <th>0</th>\n",
       "      <td>5</td>\n",
       "      <td>1.024960</td>\n",
       "      <td>0.805104</td>\n",
       "    </tr>\n",
       "    <tr>\n",
       "      <th>1</th>\n",
       "      <td>10</td>\n",
       "      <td>0.987909</td>\n",
       "      <td>0.777040</td>\n",
       "    </tr>\n",
       "    <tr>\n",
       "      <th>2</th>\n",
       "      <td>15</td>\n",
       "      <td>0.977723</td>\n",
       "      <td>0.769557</td>\n",
       "    </tr>\n",
       "    <tr>\n",
       "      <th>3</th>\n",
       "      <td>20</td>\n",
       "      <td>0.974103</td>\n",
       "      <td>0.767593</td>\n",
       "    </tr>\n",
       "  </tbody>\n",
       "</table>\n",
       "</div>"
      ],
      "text/plain": [
       "   Number of Neighbors      RMSE       MAE\n",
       "0                    5  1.024960  0.805104\n",
       "1                   10  0.987909  0.777040\n",
       "2                   15  0.977723  0.769557\n",
       "3                   20  0.974103  0.767593"
      ]
     },
     "execution_count": 51,
     "metadata": {},
     "output_type": "execute_result"
    }
   ],
   "source": [
    "user_df = pd.DataFrame(neighbors, columns = ['Number of Neighbors'])\n",
    "user_df['RMSE'] = pd.Series(user_rmse_li_k)\n",
    "user_df['MAE'] = pd.Series(user_mae_li_k)\n",
    "\n",
    "message = 'Number of Neighbors (User-Based Collaborative Filtering)'\n",
    "Graph_Similarity_Measures(user_df, 'Number of Neighbors', message)\n",
    "\n",
    "print('\\n')\n",
    "user_df"
   ]
  },
  {
   "cell_type": "markdown",
   "metadata": {},
   "source": [
    "## Number of Neighbors: Item-Based Collaborative Filtering"
   ]
  },
  {
   "cell_type": "code",
   "execution_count": 27,
   "metadata": {},
   "outputs": [],
   "source": [
    "item_rmse_li_k = []\n",
    "item_mae_li_k = []"
   ]
  },
  {
   "cell_type": "code",
   "execution_count": 28,
   "metadata": {},
   "outputs": [
    {
     "name": "stdout",
     "output_type": "stream",
     "text": [
      "Computing the msd similarity matrix...\n",
      "Done computing similarity matrix.\n",
      "RMSE: 1.0794\n",
      "MAE:  0.8436\n"
     ]
    }
   ],
   "source": [
    "# K = 5 Simularity (Item-Based)\n",
    "sim_options = {'user_based': False}\n",
    "\n",
    "item_based_5 = KNNBasic(k = 5, sim_options = sim_options)\n",
    "item_based_5.fit(trainset)\n",
    "\n",
    "pred = item_based_5.test(testset)\n",
    "item_rmse_5 = accuracy.rmse(pred)\n",
    "item_mae_5 = accuracy.mae(pred)\n",
    "\n",
    "item_rmse_li_k.append(item_rmse_5)\n",
    "item_mae_li_k.append(item_mae_5)"
   ]
  },
  {
   "cell_type": "code",
   "execution_count": 29,
   "metadata": {},
   "outputs": [
    {
     "name": "stdout",
     "output_type": "stream",
     "text": [
      "Computing the msd similarity matrix...\n",
      "Done computing similarity matrix.\n",
      "RMSE: 1.0177\n",
      "MAE:  0.8011\n"
     ]
    }
   ],
   "source": [
    "# K = 10 Simularity (Item-Based)\n",
    "sim_options = {'user_based': False}\n",
    "\n",
    "item_based_10 = KNNBasic(k = 10, sim_options = sim_options)\n",
    "item_based_10.fit(trainset)\n",
    "\n",
    "pred = item_based_10.test(testset)\n",
    "item_rmse_10 = accuracy.rmse(pred)\n",
    "item_mae_10 = accuracy.mae(pred)\n",
    "\n",
    "item_rmse_li_k.append(item_rmse_10)\n",
    "item_mae_li_k.append(item_mae_10)"
   ]
  },
  {
   "cell_type": "code",
   "execution_count": 30,
   "metadata": {},
   "outputs": [
    {
     "name": "stdout",
     "output_type": "stream",
     "text": [
      "Computing the msd similarity matrix...\n",
      "Done computing similarity matrix.\n",
      "RMSE: 0.9971\n",
      "MAE:  0.7866\n"
     ]
    }
   ],
   "source": [
    "# K = 15 Simularity (Item-Based)\n",
    "sim_options = {'user_based': False}\n",
    "\n",
    "item_based_15 = KNNBasic(k = 15, sim_options = sim_options)\n",
    "item_based_15.fit(trainset)\n",
    "\n",
    "pred = item_based_15.test(testset)\n",
    "item_rmse_15 = accuracy.rmse(pred)\n",
    "item_mae_15 = accuracy.mae(pred)\n",
    "\n",
    "item_rmse_li_k.append(item_rmse_15)\n",
    "item_mae_li_k.append(item_mae_15)"
   ]
  },
  {
   "cell_type": "code",
   "execution_count": 31,
   "metadata": {},
   "outputs": [
    {
     "name": "stdout",
     "output_type": "stream",
     "text": [
      "Computing the msd similarity matrix...\n",
      "Done computing similarity matrix.\n",
      "RMSE: 0.9870\n",
      "MAE:  0.7784\n"
     ]
    }
   ],
   "source": [
    "# K = 20 Simularity (Item-Based)\n",
    "sim_options = {'user_based': False}\n",
    "\n",
    "item_based_20 = KNNBasic(k = 20, sim_options = sim_options)\n",
    "item_based_20.fit(trainset)\n",
    "\n",
    "pred = item_based_20.test(testset)\n",
    "item_rmse_20 = accuracy.rmse(pred)\n",
    "item_mae_20 = accuracy.mae(pred)\n",
    "\n",
    "item_rmse_li_k.append(item_rmse_20)\n",
    "item_mae_li_k.append(item_mae_20)"
   ]
  },
  {
   "cell_type": "code",
   "execution_count": 52,
   "metadata": {},
   "outputs": [
    {
     "data": {
      "image/png": "[encoded data removed]",
      "text/plain": [
       "<Figure size 2160x360 with 1 Axes>"
      ]
     },
     "metadata": {
      "needs_background": "light"
     },
     "output_type": "display_data"
    },
    {
     "name": "stdout",
     "output_type": "stream",
     "text": [
      "\n",
      "\n"
     ]
    },
    {
     "data": {
      "text/html": [
       "<div>\n",
       "<style scoped>\n",
       "    .dataframe tbody tr th:only-of-type {\n",
       "        vertical-align: middle;\n",
       "    }\n",
       "\n",
       "    .dataframe tbody tr th {\n",
       "        vertical-align: top;\n",
       "    }\n",
       "\n",
       "    .dataframe thead th {\n",
       "        text-align: right;\n",
       "    }\n",
       "</style>\n",
       "<table border=\"1\" class=\"dataframe\">\n",
       "  <thead>\n",
       "    <tr style=\"text-align: right;\">\n",
       "      <th></th>\n",
       "      <th>Number of Neighbors</th>\n",
       "      <th>RMSE</th>\n",
       "      <th>MAE</th>\n",
       "    </tr>\n",
       "  </thead>\n",
       "  <tbody>\n",
       "    <tr>\n",
       "      <th>0</th>\n",
       "      <td>5</td>\n",
       "      <td>1.079416</td>\n",
       "      <td>0.843567</td>\n",
       "    </tr>\n",
       "    <tr>\n",
       "      <th>1</th>\n",
       "      <td>10</td>\n",
       "      <td>1.017653</td>\n",
       "      <td>0.801118</td>\n",
       "    </tr>\n",
       "    <tr>\n",
       "      <th>2</th>\n",
       "      <td>15</td>\n",
       "      <td>0.997116</td>\n",
       "      <td>0.786555</td>\n",
       "    </tr>\n",
       "    <tr>\n",
       "      <th>3</th>\n",
       "      <td>20</td>\n",
       "      <td>0.987035</td>\n",
       "      <td>0.778438</td>\n",
       "    </tr>\n",
       "  </tbody>\n",
       "</table>\n",
       "</div>"
      ],
      "text/plain": [
       "   Number of Neighbors      RMSE       MAE\n",
       "0                    5  1.079416  0.843567\n",
       "1                   10  1.017653  0.801118\n",
       "2                   15  0.997116  0.786555\n",
       "3                   20  0.987035  0.778438"
      ]
     },
     "execution_count": 52,
     "metadata": {},
     "output_type": "execute_result"
    }
   ],
   "source": [
    "item_df = pd.DataFrame(neighbors, columns = ['Number of Neighbors'])\n",
    "item_df['RMSE'] = pd.Series(item_rmse_li_k)\n",
    "item_df['MAE'] = pd.Series(item_mae_li_k)\n",
    "\n",
    "message = 'Number of Neighbors (Item-Based Collaborative Filtering)'\n",
    "Graph_Similarity_Measures(item_df, 'Number of Neighbors', message)\n",
    "\n",
    "print('\\n')\n",
    "item_df"
   ]
  }
 ],
 "metadata": {
  "kernelspec": {
   "display_name": "Python 3",
   "language": "python",
   "name": "python3"
  },
  "language_info": {
   "codemirror_mode": {
    "name": "ipython",
    "version": 3
   },
   "file_extension": ".py",
   "mimetype": "text/x-python",
   "name": "python",
   "nbconvert_exporter": "python",
   "pygments_lexer": "ipython3",
   "version": "3.8.5"
  }
 },
 "nbformat": 4,
 "nbformat_minor": 4
}
