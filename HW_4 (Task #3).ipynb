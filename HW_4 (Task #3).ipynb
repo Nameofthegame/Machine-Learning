{
 "cells": [
  {
   "cell_type": "code",
   "execution_count": 1,
   "metadata": {},
   "outputs": [],
   "source": [
    "import math, random, time\n",
    "\n",
    "import numpy as np\n",
    "import pandas as pd\n",
    "import matplotlib.pyplot as plt\n",
    "\n",
    "from sklearn.cluster import k_means"
   ]
  },
  {
   "cell_type": "markdown",
   "metadata": {},
   "source": [
    "### Calculate Distance\n",
    "\n",
    "* **Distance Metrics:** \n",
    "\n",
    "\n",
    "    - Manhattan Distance Formula\n",
    "\\begin{equation} \n",
    "d = |x_1 - x_2| + |y_1 - y_2| \n",
    "\\end{equation}\n",
    "\n",
    "\n",
    "    - Euclidean Distance Formula\n",
    "\\begin{equation} \n",
    "d = \\sqrt{(x_1 - x_2)^2 + (y_1 - y_2)^2} \n",
    "\\end{equation}"
   ]
  },
  {
   "cell_type": "code",
   "execution_count": 2,
   "metadata": {},
   "outputs": [],
   "source": [
    "def Manhattan_Dist(point1, point2):\n",
    "    result = abs(point1[0] - point2[0]) + abs(point1[1] - point2[1])\n",
    "    return result"
   ]
  },
  {
   "cell_type": "code",
   "execution_count": 3,
   "metadata": {},
   "outputs": [],
   "source": [
    "def Euclidean_Dist(point1, point2):\n",
    "    result = ((point1[0] - point2[0])**2) + ((point1[1] - point2[1])**2)\n",
    "    return math.sqrt(result)"
   ]
  },
  {
   "cell_type": "code",
   "execution_count": 4,
   "metadata": {},
   "outputs": [],
   "source": [
    "alpha = (5, 3)\n",
    "beta = (6, 3)"
   ]
  },
  {
   "cell_type": "code",
   "execution_count": 5,
   "metadata": {},
   "outputs": [
    {
     "data": {
      "text/plain": [
       "1.0"
      ]
     },
     "execution_count": 5,
     "metadata": {},
     "output_type": "execute_result"
    }
   ],
   "source": [
    "round(Euclidean_Dist(alpha, beta), 4)"
   ]
  },
  {
   "cell_type": "code",
   "execution_count": 6,
   "metadata": {},
   "outputs": [
    {
     "data": {
      "text/plain": [
       "1"
      ]
     },
     "execution_count": 6,
     "metadata": {},
     "output_type": "execute_result"
    }
   ],
   "source": [
    "round(Manhattan_Dist(alpha, beta), 4)"
   ]
  },
  {
   "cell_type": "code",
   "execution_count": 7,
   "metadata": {},
   "outputs": [
    {
     "data": {
      "text/plain": [
       "[(4.7, 3.2), (4.9, 3.1), (5.0, 3.0), (4.6, 2.9)]"
      ]
     },
     "execution_count": 7,
     "metadata": {},
     "output_type": "execute_result"
    }
   ],
   "source": [
    "red = [(4.7, 3.2),\n",
    "       (4.9, 3.1),\n",
    "       (5.0, 3.0),\n",
    "       (4.6, 2.9)]\n",
    "red"
   ]
  },
  {
   "cell_type": "code",
   "execution_count": 8,
   "metadata": {},
   "outputs": [
    {
     "data": {
      "text/plain": [
       "[(5.9, 3.2), (6.7, 3.1), (6.0, 3.0), (6.2, 2.8)]"
      ]
     },
     "execution_count": 8,
     "metadata": {},
     "output_type": "execute_result"
    }
   ],
   "source": [
    "blue = [(5.9, 3.2),\n",
    "        (6.7, 3.1),\n",
    "        (6.0, 3.0),\n",
    "        (6.2, 2.8)]\n",
    "blue"
   ]
  },
  {
   "cell_type": "code",
   "execution_count": 9,
   "metadata": {},
   "outputs": [],
   "source": [
    "dist_sum = 0\n",
    "for i, j in zip(red, blue):\n",
    "    dist = Euclidean_Dist(i, j)\n",
    "    \n",
    "    dist_sum += dist"
   ]
  },
  {
   "cell_type": "code",
   "execution_count": 10,
   "metadata": {},
   "outputs": [
    {
     "name": "stdout",
     "output_type": "stream",
     "text": [
      "Average Distance Between All Pairs: 1.4008\n"
     ]
    }
   ],
   "source": [
    "dist_average = dist_sum / len(red)\n",
    "print('Average Distance Between All Pairs:', round(dist_average, 4))"
   ]
  },
  {
   "cell_type": "code",
   "execution_count": null,
   "metadata": {},
   "outputs": [],
   "source": []
  }
 ],
 "metadata": {
  "kernelspec": {
   "display_name": "Python 3",
   "language": "python",
   "name": "python3"
  },
  "language_info": {
   "codemirror_mode": {
    "name": "ipython",
    "version": 3
   },
   "file_extension": ".py",
   "mimetype": "text/x-python",
   "name": "python",
   "nbconvert_exporter": "python",
   "pygments_lexer": "ipython3",
   "version": "3.8.5"
  }
 },
 "nbformat": 4,
 "nbformat_minor": 4
}
